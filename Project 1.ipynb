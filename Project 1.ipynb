{
 "cells": [
  {
   "cell_type": "code",
   "execution_count": null,
   "metadata": {},
   "outputs": [
    {
     "name": "stdout",
     "output_type": "stream",
     "text": [
      "Choose operation: addition = 1, subtraction = 2, multiplication = 3, or division = 4\n"
     ]
    }
   ],
   "source": [
    "def add(num1, num2): # code for addition operation\n",
    "    return num1 + num2\n",
    "def sub(num1, num2): # code for subtraction operation\n",
    "    return num1 - num2\n",
    "def multi(num1, num2): # code for multiplication operation\n",
    "    return num1 * num2\n",
    "def divi(num1, num2): #code for dicision operation\n",
    "    return num1 / num2\n",
    "print(\"Choose operation: addition = 1, subtraction = 2, multiplication = 3, or division = 4\") # tells the user which numbers stand for which operations\n",
    "select = int(input(\"Choose operation: 1, 2, 3, or 4: \")) # asks user to choose a number and thus an operation\n",
    "first_number = int(input(\"Choose first number: \")) # asks user for first number in operation\n",
    "second_number = int(input(\"Choose second number: \")) # asks user for second number in operation\n",
    "if select == 1: # performs addition if they choose that operation\n",
    "    print(add(first_number, second_number))\n",
    "elif select == 2: # performs subtraction if they choose that operation\n",
    "    print(sub(first_number, second_number))\n",
    "elif select == 3: # performs multiplication if they choose that operation\n",
    "    print(multi(first_number, second_number))\n",
    "elif select == 4: # performs division if they choose that operation\n",
    "    print(divi(first_number, second_number))"
   ]
  },
  {
   "cell_type": "code",
   "execution_count": null,
   "metadata": {},
   "outputs": [],
   "source": []
  },
  {
   "cell_type": "code",
   "execution_count": null,
   "metadata": {},
   "outputs": [],
   "source": []
  }
 ],
 "metadata": {
  "kernelspec": {
   "display_name": "Python 3",
   "language": "python",
   "name": "python3"
  },
  "language_info": {
   "codemirror_mode": {
    "name": "ipython",
    "version": 3
   },
   "file_extension": ".py",
   "mimetype": "text/x-python",
   "name": "python",
   "nbconvert_exporter": "python",
   "pygments_lexer": "ipython3",
   "version": "3.8.5"
  }
 },
 "nbformat": 4,
 "nbformat_minor": 4
}
